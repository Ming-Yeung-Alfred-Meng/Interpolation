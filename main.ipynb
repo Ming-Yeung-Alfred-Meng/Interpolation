{
 "cells": [
  {
   "cell_type": "code",
   "execution_count": null,
   "id": "initial_id",
   "metadata": {
    "collapsed": true
   },
   "outputs": [],
   "source": [
    "import scripts as s\n",
    "import numpy as np\n",
    "\n",
    "import importlib\n",
    "\n",
    "importlib.reload(s)"
   ]
  },
  {
   "cell_type": "code",
   "execution_count": null,
   "outputs": [],
   "source": [
    "interpolation_count = 22"
   ],
   "metadata": {
    "collapsed": false
   },
   "id": "8c68e0ab97d66df6"
  },
  {
   "cell_type": "markdown",
   "source": [
    "# Hermite"
   ],
   "metadata": {
    "collapsed": false
   },
   "id": "7d8f6d4fa43ebf94"
  },
  {
   "cell_type": "code",
   "execution_count": null,
   "outputs": [],
   "source": [
    "number_of_keyframes = 7"
   ],
   "metadata": {
    "collapsed": false
   },
   "id": "464d9b0b1e4679d6"
  },
  {
   "cell_type": "code",
   "execution_count": null,
   "outputs": [],
   "source": [
    "keyframes_x = 20 * np.random.random_sample(number_of_keyframes) - 10\n",
    "keyframes_y = 20 * np.random.random_sample(number_of_keyframes) - 10\n",
    "gradients_x = 40 * np.random.random_sample(number_of_keyframes) - 20\n",
    "gradients_y = 40 * np.random.random_sample(number_of_keyframes) - 20\n",
    "\n",
    "s.plot_interpolation_2d(keyframes_x, \n",
    "                        keyframes_y, \n",
    "                        gradients_x, \n",
    "                        gradients_y, \n",
    "                        s.hermite_interpolation_1d(keyframes_x, \n",
    "                                                   gradients_x, \n",
    "                                                   interpolation_count), \n",
    "                        s.hermite_interpolation_1d(keyframes_y, \n",
    "                                                   gradients_y, \n",
    "                                                   interpolation_count), \n",
    "                        \"Hermite\")\n",
    "\n",
    "print(\"keyframes are: \\n\"\n",
    "      f\"{np.stack((keyframes_x, keyframes_y), axis=1)}\\n\"\n",
    "      \"\\ngradients are: \\n\"\n",
    "      f\"{np.stack((gradients_x, gradients_y), axis=1)}\")"
   ],
   "metadata": {
    "collapsed": false
   },
   "id": "8345888a2f770a12"
  },
  {
   "cell_type": "markdown",
   "source": [
    "# Catmull-Rom"
   ],
   "metadata": {
    "collapsed": false
   },
   "id": "889897e7d357e11a"
  },
  {
   "cell_type": "code",
   "execution_count": null,
   "outputs": [],
   "source": [
    "number_of_keyframes = 9"
   ],
   "metadata": {
    "collapsed": false
   },
   "id": "26fe92a809135b44"
  },
  {
   "cell_type": "code",
   "execution_count": null,
   "outputs": [],
   "source": [
    "keyframes_x = 20 * np.random.random_sample(number_of_keyframes) - 10\n",
    "keyframes_y = 20 * np.random.random_sample(number_of_keyframes) - 10\n",
    "\n",
    "gradients_x = (np.concatenate((np.zeros(shape=(1,)), \n",
    "                              keyframes_x[2:], \n",
    "                              np.zeros(shape=(1,)))) \n",
    "               - np.concatenate((np.zeros(shape=(1,)), \n",
    "                              keyframes_x[:-2], \n",
    "                              np.zeros(shape=(1,)))))\n",
    "\n",
    "gradients_y = (np.concatenate((np.zeros(shape=(1,)), \n",
    "                              keyframes_y[2:], \n",
    "                              np.zeros(shape=(1,)))) \n",
    "               - np.concatenate((np.zeros(shape=(1,)), \n",
    "                              keyframes_y[:-2], \n",
    "                              np.zeros(shape=(1,)))))\n",
    "\n",
    "s.plot_interpolation_2d(keyframes_x, \n",
    "                        keyframes_y, \n",
    "                        gradients_x, \n",
    "                        gradients_y, \n",
    "                        s.catmullrom_spline_1d(keyframes_x, \n",
    "                                               interpolation_count), \n",
    "                        s.catmullrom_spline_1d(keyframes_y, \n",
    "                                               interpolation_count), \n",
    "                        \"Catmull-Rom\")\n",
    "\n",
    "print(\"keyframes are: \\n\"\n",
    "      f\"{np.stack((keyframes_x, keyframes_y), axis=1)}\\n\"\n",
    "      \"\\ngradients are: \\n\"\n",
    "      f\"{np.stack((gradients_x[1:-1], gradients_y[1:-1]), axis=1)}\")"
   ],
   "metadata": {
    "collapsed": false
   },
   "id": "36c7128dc4d5e678"
  },
  {
   "cell_type": "code",
   "execution_count": null,
   "outputs": [],
   "source": [],
   "metadata": {
    "collapsed": false
   },
   "id": "c103345be13a677e"
  }
 ],
 "metadata": {
  "kernelspec": {
   "display_name": "Python 3",
   "language": "python",
   "name": "python3"
  },
  "language_info": {
   "codemirror_mode": {
    "name": "ipython",
    "version": 2
   },
   "file_extension": ".py",
   "mimetype": "text/x-python",
   "name": "python",
   "nbconvert_exporter": "python",
   "pygments_lexer": "ipython2",
   "version": "2.7.6"
  }
 },
 "nbformat": 4,
 "nbformat_minor": 5
}
